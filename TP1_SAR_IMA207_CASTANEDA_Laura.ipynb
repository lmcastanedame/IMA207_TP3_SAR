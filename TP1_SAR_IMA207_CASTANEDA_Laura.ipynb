{
  "nbformat": 4,
  "nbformat_minor": 0,
  "metadata": {
    "colab": {
      "provenance": [],
      "toc_visible": true
    },
    "kernelspec": {
      "name": "python3",
      "display_name": "Python 3"
    },
    "language_info": {
      "name": "python"
    }
  },
  "cells": [
    {
      "cell_type": "markdown",
      "metadata": {
        "id": "ptnN_Z-TaY-6"
      },
      "source": [
        "# PW 1 - Practical work on SAR imaging : introduction to SAR data and interferometric processing\n",
        "The aim of this PW is to get familiar with SAR data (high dynamic of the images, complex data with ampltidue and phase). After a first part on the visualization of such data and the understanding of the image content, the second part is dedicated to the processing of phase and interferometric data."
      ]
    },
    {
      "cell_type": "markdown",
      "metadata": {
        "id": "I-SHNm0uhryd"
      },
      "source": [
        "## 1. Analysis of a series of SAR images\n",
        "In this part, we will have a look at a temporal series of 25 SAR images acquired [from 2015-10-06 to 2016-11-05](https://perso.telecom-paristech.fr/tupin/TPSAR/pilelely/PileLely_3072x1024RECALZ4.label), with a time delay of approximately 12 days.\n",
        "\n",
        "By making use of these SAR images, we will see the main differences with respect to conventional natural images and develop some simple tools to visualize an image, interpret it and detect temporal changes."
      ]
    },
    {
      "cell_type": "code",
      "metadata": {
        "id": "KPUKtqPUWNdR"
      },
      "source": [
        "!wget https://perso.telecom-paristech.fr/tupin/TPSAR/mvalab.py\n",
        "\n",
        "import scipy\n",
        "from scipy import signal\n",
        "import scipy.signal\n",
        "import scipy as spy\n",
        "import scipy.fftpack\n",
        "from scipy import ndimage\n",
        "from scipy import special\n",
        "from scipy import ndimage\n",
        "import numpy as np\n",
        "import math\n",
        "import matplotlib.pyplot as plt\n",
        "import mvalab as mvalab\n",
        "from urllib.request import urlopen\n",
        "import cmath\n",
        "from google_drive_downloader import GoogleDriveDownloader as gdd\n",
        "\n",
        "\n",
        "plt.rcParams['figure.figsize'] = [8, 8]\n",
        "plt.rcParams['figure.max_open_warning'] = 30"
      ],
      "execution_count": null,
      "outputs": []
    },
    {
      "cell_type": "code",
      "metadata": {
        "id": "Pcns5YMNmEER"
      },
      "source": [
        "# Download of the time series\n",
        "webpage = 'https://perso.telecom-paristech.fr/tupin/TPSAR/pilelely/multitemp/'\n",
        "imagename = 'lely_tuple_multitemp.IMA'\n",
        "imaslc = mvalab.imz2mat(webpage+imagename) # complex image\n",
        "\n",
        "time_series_amp = np.abs(imaslc[0]) # taking an array of shape [n_rows,n_columns,n_dates] in amplitude format"
      ],
      "execution_count": null,
      "outputs": []
    },
    {
      "cell_type": "markdown",
      "metadata": {
        "id": "H4ejPnG53udW"
      },
      "source": [
        "### Question 1.1: display a SAR image\n",
        "SAR images have a long-tailed distribution, making its dynamic range to be wide. Plot the image with matplotlib. What do you see?\n",
        "\n",
        "It looks like an optical image with a low exposition and a low contrast. How can you improve the contrast of a SAR image, in order to have a more pleasant visualization?\n",
        "Implement a function to plot a SAR image and comment the results obtained.\n",
        "\n",
        "A usual way to do this, is the saturate all the values above a certain threshold (often chosen as the mean + 3 times the standard deviation of the image) and do a linear stretching for the other values.\n",
        "Explain the effect of this processing and what you see in the resulting image."
      ]
    },
    {
      "cell_type": "markdown",
      "metadata": {
        "id": "gHo-osXxFDKb"
      },
      "source": [
        "### Answer 1.1\n",
        "..."
      ]
    },
    {
      "cell_type": "code",
      "metadata": {
        "id": "OMC27Hxo6bT4"
      },
      "source": [
        "plt.figure()\n",
        "plt.imshow(time_series_amp[:,:,0],cmap='gray')\n",
        "plt.show()"
      ],
      "execution_count": null,
      "outputs": []
    },
    {
      "cell_type": "code",
      "metadata": {
        "id": "sbHi1in66jPA"
      },
      "source": [
        "# implement the following function to plot a SAR image\n",
        "# you can use a threshold as mean + 3 sigma\n",
        "# and the np.clip function\n",
        "\n",
        "def plot_sar(ima):\n",
        "  plt.figure(figsize=(12,12))\n",
        "  t = ... # choose the appropriate theshold\n",
        "  plt.imshow(...,cmap='gray') # display the saturated image\n",
        "  plt.show()\n",
        "\n",
        "plot_sar(time_series_amp[:,:,0])"
      ],
      "execution_count": null,
      "outputs": []
    },
    {
      "cell_type": "markdown",
      "metadata": {
        "id": "_OeM8MM02XQw"
      },
      "source": [
        "### Question 1.2: Image orientation\n",
        "Is the image in the correct geographic orientation?\n",
        "Apply the proper flipping if necessary.\n",
        "\n",
        "To see the corresponding optical image and find the correct flipping, you can have a look on Google Maps at [this location](https://goo.gl/maps/LQcd3Uz9U7qCoRrH6)."
      ]
    },
    {
      "cell_type": "markdown",
      "metadata": {
        "id": "YsFYI4HoGNJV"
      },
      "source": [
        "### Answer 1.2\n",
        "..."
      ]
    },
    {
      "cell_type": "code",
      "metadata": {
        "id": "knUKXqh82Wyx"
      },
      "source": [
        "plot_sar(time_series_amp[:,:,0])"
      ],
      "execution_count": null,
      "outputs": []
    },
    {
      "cell_type": "code",
      "metadata": {
        "id": "_YzQr9Z02P8J"
      },
      "source": [
        "time_series_flipped = np.copy(time_series_amp)\n",
        "time_series_flipped = ... # apply flipping if necessary using np.flip"
      ],
      "execution_count": null,
      "outputs": []
    },
    {
      "cell_type": "code",
      "metadata": {
        "id": "OMYsOnxH0Qn-"
      },
      "source": [
        "plot_sar(time_series_flipped[:,:,0])"
      ],
      "execution_count": null,
      "outputs": []
    },
    {
      "cell_type": "markdown",
      "metadata": {
        "id": "TXAsn73b7EU3"
      },
      "source": [
        "### Question 1.3: Interpretation of a SAR image\n",
        "The image contains\n",
        "- an urban area,\n",
        "- agricultural fields,\n",
        "- water\n",
        "\n",
        "Explain the appearence of these objects in the SAR image."
      ]
    },
    {
      "cell_type": "markdown",
      "metadata": {
        "id": "TkoaDseMGZ0V"
      },
      "source": [
        "### Answer 1.3\n",
        "- urban area: ...\n",
        "- agricultural fields: ...\n",
        "- water: ...\n",
        "..."
      ]
    },
    {
      "cell_type": "markdown",
      "metadata": {
        "id": "7u0himRw7Yxu"
      },
      "source": [
        "### Question 1.4: Multitemporal analysis and change detection\n",
        "To detect changes occurring between three dates, images can be displayed in a false colour representation, each date being one channel of a RGB image. Implement the function ```plot_changes```.\n",
        "\n",
        "Then, choose three dates from the multitemporal stack (indexes from 0 to 24). From the false colour representation, can you tell when a particular change has occurred? Explain how you can interpret it."
      ]
    },
    {
      "cell_type": "markdown",
      "metadata": {
        "id": "VOpwHJE8GmAZ"
      },
      "source": [
        "### Answer 1.4\n",
        "..."
      ]
    },
    {
      "cell_type": "code",
      "metadata": {
        "id": "XgU12cddzTrX"
      },
      "source": [
        "def plot_changes(im1,im2,im3):\n",
        "    threshold = ... # select a unique threshold for the three images\n",
        "    # apply thresholding and shrinking of each image between [0;1] for RGB data\n",
        "    im1 = np.clip(im1,0,threshold)\n",
        "    im1 = im1/threshold\n",
        "    im2 = np.clip(im2,0,threshold)\n",
        "    im2 = im2/threshold\n",
        "    im3 = np.clip(im3,0,threshold)\n",
        "    im3 = im3/threshold\n",
        "    image = ... # create a false RGB image by stacking the three dates\n",
        "    plt.figure(figsize=(12,12))\n",
        "    plt.imshow(image)\n",
        "    plt.show()"
      ],
      "execution_count": null,
      "outputs": []
    },
    {
      "cell_type": "code",
      "metadata": {
        "id": "0OOC8S_Fzd9u"
      },
      "source": [
        "# choose three dates\n",
        "idx1 = 1\n",
        "idx2 = 10\n",
        "idx3 = 15\n",
        "im1 = time_series_flipped[:,:,idx1]\n",
        "im2 = time_series_flipped[:,:,idx2]\n",
        "im3 = time_series_flipped[:,:,idx3]\n",
        "\n",
        "plot_sar(im1)\n",
        "plot_sar(im2)\n",
        "plot_sar(im3)\n",
        "plot_changes(im1,im2,im3)"
      ],
      "execution_count": null,
      "outputs": []
    },
    {
      "cell_type": "markdown",
      "metadata": {
        "id": "yIk4k-kgrrzx"
      },
      "source": [
        "### Question 1.5: Create an image with isotropic pixels\n",
        "The image pixels have the following size: $13.86[m]\\times 2.3[m]$ in azimuth $\\times$ range (approximately, pixel height is 5 times greater than pixel length). How can you create an image with approximately squared pixels?\n",
        "\n",
        "PS : the range drection was the horizontal direction and the azimuth direction the vertical direction in the original image (before any flipping)"
      ]
    },
    {
      "cell_type": "markdown",
      "metadata": {
        "id": "zoDA5hDUG482"
      },
      "source": [
        "### Answer 1.5\n",
        "..."
      ]
    },
    {
      "cell_type": "code",
      "metadata": {
        "id": "JO26NNhemD1d"
      },
      "source": [
        "ima_tmp = time_series_flipped[:,:,0]\n",
        "\n",
        "mask = ...\n",
        "ima_filtered = ... # filter the image with the appropriate mask\n",
        "ima_squared_pixels = ... # resample the filtered image\n",
        "plot_sar(ima_squared_pixels)"
      ],
      "execution_count": null,
      "outputs": []
    },
    {
      "cell_type": "markdown",
      "metadata": {
        "id": "AGQ3f0D-H_cS"
      },
      "source": [
        "## 2. Analysis of TerraSAR-X images acquired over the Paris area\n",
        "In this part we will use an image of TerraSAR-X sensor (metric resolution) of Paris.\n",
        "This is a temporal stack, you can choose the date you want.\n",
        "(The questions are similar to the previous ones and will not be done during the PW but later as personal work)."
      ]
    },
    {
      "cell_type": "code",
      "metadata": {
        "id": "LrBxL-jYmC4o"
      },
      "source": [
        "# 21 images from TerraSAR-X between 2009-01-24 and 2010-11-26\n",
        "webpage='https://perso.telecom-paristech.fr/tupin/TPSAR/paris/'\n",
        "image='PileiEiffeljavelRECALZ4RECSP.IMA'\n",
        "im_slc_tsx_paris_liste=mvalab.imz2mat(webpage+image);\n",
        "im_slc_tsx_paris = im_slc_tsx_paris_liste[0][:,:,0]\n",
        "plt.rcParams['figure.figsize'] = [18, 18]\n",
        "mvalab.visusar(np.abs(im_slc_tsx_paris))"
      ],
      "execution_count": null,
      "outputs": []
    },
    {
      "cell_type": "markdown",
      "metadata": {
        "id": "q5Tl4jTUIOfF"
      },
      "source": [
        "### Question 2.1: interpretation\n",
        "Check that you recognize the main buildings on this image.\n",
        "What is the position of the track of the sensor relatively to this image ?\n",
        "\n",
        "Explain the appearence of the following buildings in the amplitude image : Eiffel Tower, Maison de la radio, Pont de Bir-Hakeim (you can use a [satellite optic image on googlemaps](https://www.google.com/maps/place/Eiffel+Tower/@48.851143,2.2797819,447m/data=!3m1!1e3!4m5!3m4!1s0x47e66e2964e34e2d:0x8ddca9ee380ef7e0!8m2!3d48.8583701!4d2.2944813) to help you).\n",
        "\n"
      ]
    },
    {
      "cell_type": "markdown",
      "metadata": {
        "id": "BNjCGARBKjOA"
      },
      "source": [
        "### Answer 2.1\n",
        "..."
      ]
    },
    {
      "cell_type": "markdown",
      "metadata": {
        "id": "U6ld1KJkKmP7"
      },
      "source": [
        "### Question 2.2: change detection\n",
        "Identify and explain the appearence of some changing objects on Paris."
      ]
    },
    {
      "cell_type": "markdown",
      "metadata": {
        "id": "zBuK_OUNKxrk"
      },
      "source": [
        "### Answer 2.2\n",
        "..."
      ]
    },
    {
      "cell_type": "code",
      "metadata": {
        "id": "Tw-jYCW6mCwm"
      },
      "source": [
        "idx1 = 1\n",
        "idx2 = 10\n",
        "idx3 = 15\n",
        "im1 = np.abs(im_slc_tsx_paris_liste[0][:,:,idx1])\n",
        "im2 = np.abs(im_slc_tsx_paris_liste[0][:,:,idx2])\n",
        "im3 = np.abs(im_slc_tsx_paris_liste[0][:,:,idx3])\n",
        "\n",
        "plot_sar(im1)\n",
        "plot_sar(im2)\n",
        "plot_sar(im3)\n",
        "plot_changes(im1,im2,im3)"
      ],
      "execution_count": null,
      "outputs": []
    },
    {
      "cell_type": "markdown",
      "metadata": {
        "id": "y9BpXkBu8J4_"
      },
      "source": [
        "## 3. SAR interferometry\n",
        "In this part, the objective is to see the content of the phase of a SAR image and to do a simple processing chain to obtain an interferogram with topographic fringes.\n",
        "You will be able to have a look to the optical image [on this link](https://g.page/ParcoEtna?share)"
      ]
    },
    {
      "cell_type": "code",
      "metadata": {
        "id": "kf0BWmA2WPbg"
      },
      "source": [
        "!wget https://perso.telecom-paristech.fr/tupin/TPSAR/interfero/Master.mat\n",
        "!wget https://perso.telecom-paristech.fr/tupin/TPSAR/interfero/Slave.mat\n",
        "imageM='./Master.mat'\n",
        "imageS='./Slave.mat'\n",
        "imamaitre=mvalab.matlab2imz(imageM,'Master')\n",
        "imaslave=mvalab.matlab2imz(imageS,'Slave')\n",
        "\n",
        "imamaitre = imamaitre[0][1000:3000,:]\n",
        "imaslave = imaslave[0][1000:3000,:]\n",
        "ncolonnes=imamaitre.shape[1]\n",
        "nlignes=imamaitre.shape[0]\n",
        "\n",
        "#%%\n",
        "plt.rcParams['figure.figsize'] = [18, 18]\n",
        "mvalab.visusar(imamaitre)\n",
        "mvalab.visusar(imaslave)"
      ],
      "execution_count": null,
      "outputs": []
    },
    {
      "cell_type": "code",
      "metadata": {
        "id": "ziAUTABlWW77"
      },
      "source": [
        "# display the phase of one image\n",
        "#mvalab.visuinterfero uses an adapted lut to see the phase of an image\n",
        "mvalab.visuinterfero(np.angle(imamaitre)+math.pi,0)\n"
      ],
      "execution_count": null,
      "outputs": []
    },
    {
      "cell_type": "markdown",
      "metadata": {
        "id": "B_F2l-qj7IgV"
      },
      "source": [
        "### Question 3.1\n",
        "Do you recognize the area in the amplitude images ? Give a short interpretation. Visualize the phase of an image. Do you see any useful information?"
      ]
    },
    {
      "cell_type": "markdown",
      "metadata": {
        "id": "nSMs-LUSbxxX"
      },
      "source": [
        "### Answer 3.1\n",
        "..."
      ]
    },
    {
      "cell_type": "markdown",
      "metadata": {
        "id": "2amGHUZpbxoP"
      },
      "source": [
        "### Question 3.2\n",
        "Compute the interferogram by computing $z_1.z_2^*$ and display the phase. Do you see any structured pattern ?"
      ]
    },
    {
      "cell_type": "code",
      "source": [
        "raw_interf = ... # compute z1.z2*\n",
        "plt.rcParams['figure.figsize'] = [18, 18]\n",
        "mvalab.visuinterfero() # diplay the phase"
      ],
      "metadata": {
        "id": "rhjaun42M-12"
      },
      "execution_count": null,
      "outputs": []
    },
    {
      "cell_type": "markdown",
      "metadata": {
        "id": "a2cY4HbmbxiS"
      },
      "source": [
        "### Answer 3.2\n",
        "..."
      ]
    },
    {
      "cell_type": "markdown",
      "metadata": {
        "id": "t3s5Ktw6cOn8"
      },
      "source": [
        "### Question 3.3: Registration of the two images\n",
        "To compute an interferogram, the following steps have to be applied :\n",
        "- registration of the two images (only a translation is searched)\n",
        "- suppression of the vertical fringe pattern\n",
        "- filtering to improve the phase information.\n",
        "\n",
        "Using the knowledge acquired on previous courses, propose a method and apply it to do the registration between the two images. Complete the code below."
      ]
    },
    {
      "cell_type": "code",
      "metadata": {
        "id": "gscwR4Z6WZZn"
      },
      "source": [
        "# propose a method to extract the shift along the two axes\n",
        "# to compute the correlation efficiently you can use the FFT\n",
        "\n",
        "# using the multiplication in the Fourier domain, compute the FFT of the correlation and then the correlation by inverse FFT\n",
        "imacorfft = ... # to be completed\n",
        "imacor= ... # to be completed\n",
        "\n",
        "#visualize the correlation image (maximum gives the translation value)\n",
        "mvalab.visusar(imacor)\n",
        "ishift = ... # you can use np.argmax and np.unravel_index\n",
        "print(ishift)\n",
        "\n",
        "# compute the shift on the two axis\n",
        "imaslaveroll=np.roll(imaslave, -ishift[0], axis=0)\n",
        "imaslaveroll=np.roll(imaslaveroll, -ishift[1], axis=1)\n",
        "\n",
        "# compute the interferogram and plot the interferometric phase\n",
        "interfero= ... # to be completed\n",
        "plt.rcParams['figure.figsize'] = [18, 18]\n",
        "mvalab.visuinterfero(np.angle(interfero)+math.pi,0)"
      ],
      "execution_count": null,
      "outputs": []
    },
    {
      "cell_type": "markdown",
      "metadata": {
        "id": "1Pf5bY1dcr2n"
      },
      "source": [
        "### Question 3.4\n",
        "What is the shift between the two images ? Which pattern do you see in the resulting fringes when computing the interferogram after the registration ?"
      ]
    },
    {
      "cell_type": "markdown",
      "metadata": {
        "id": "W9JwQ5GRczdA"
      },
      "source": [
        "### Answer 3.4\n",
        "..."
      ]
    },
    {
      "cell_type": "markdown",
      "metadata": {
        "id": "YnQV9NUnc3ls"
      },
      "source": [
        "### Question 3.5: Suppression of the orbital fringes\n",
        "To obtain the useful information about the topography the so-called orbital fringes have to be suppressed. It can be done by using the sensor parameters but in this practical work we propose to use a signal processing method.\n",
        "How can you detect a pure sinusoid in a signal ? (it is the case of the pattern we would like to suppress in the horizontal direction). Compute the frequency of this pattern and use it to suppress it in the registered secondary image.\n",
        "\n",
        "Which frequency did you obtain ? Is it the same for all the considered lines ? What do you see in the resulting interferogram after correction ?"
      ]
    },
    {
      "cell_type": "code",
      "metadata": {
        "id": "Zo1VaClQW7pk"
      },
      "source": [
        "# compute the main frequency of the pattern by choosing a line in the image and using the FFT\n",
        "fftfringe = ... # to be completed\n",
        "plt.figure()\n",
        "plt.stem(fftfringe)\n",
        "plt.show()\n",
        "\n",
        "freq = np.unravel_index(np.argmax(np.abs(fftfringe)), fftfringe.shape)\n",
        "print(freq)"
      ],
      "execution_count": null,
      "outputs": []
    },
    {
      "cell_type": "markdown",
      "source": [
        "### Answer 3.5a\n",
        "..."
      ],
      "metadata": {
        "id": "e9vemZLVP0cK"
      }
    },
    {
      "cell_type": "code",
      "metadata": {
        "id": "RnMNdsErjqmv"
      },
      "source": [
        "N = interfero.shape[1]\n",
        "n = np.arange(0,N)\n",
        "onde = ...  # create a pure wave using the previously computed frequency freq\n",
        "fonde = np.abs(np.fft.fft(onde))\n",
        "plt.figure()\n",
        "plt.stem(fonde)\n",
        "plt.show()"
      ],
      "execution_count": null,
      "outputs": []
    },
    {
      "cell_type": "code",
      "metadata": {
        "id": "bSsX6GUUXowg"
      },
      "source": [
        "# suppress the pattern by multiplying the interferogram by the conjugate of the pure wave\n",
        "interferofine= np.multiply(...,...)\n",
        "\n",
        "mvalab.visuinterfero(np.angle(interferofine)+math.pi,0)"
      ],
      "execution_count": null,
      "outputs": []
    },
    {
      "cell_type": "markdown",
      "source": [
        "### Answer 3.5b\n",
        "..."
      ],
      "metadata": {
        "id": "2wfcOwJ_QBoC"
      }
    },
    {
      "cell_type": "markdown",
      "metadata": {
        "id": "yddziWDMdtlG"
      },
      "source": [
        "### Question 3.6: interferogram filtering\n",
        "To improve the quality of the interferogram, some filtering can be applied to reduce the phase noise. Propose a suitable kernel by filling the code below.\n",
        "\n",
        "How does the filtered interferogram look like?"
      ]
    },
    {
      "cell_type": "markdown",
      "metadata": {
        "id": "BLaiKQsTds8Q"
      },
      "source": [
        "### Answer 3.6\n",
        "..."
      ]
    },
    {
      "cell_type": "code",
      "metadata": {
        "id": "tRL71pLSZmkZ"
      },
      "source": [
        "def interferogramme( tabvignette, tabvignette2, *therest) :\n",
        "    \"\"\"\n",
        "    Computation of the complex interferogram between two images of the\n",
        "    same size.\n",
        "    By default, window size is set as 3x3 (dimx, dimy).\n",
        "    It outputs a complex image, whose modulus is the coherence and whose phase\n",
        "    is the interferometric phase.\n",
        "    \"\"\"\n",
        "\n",
        "    dimx=3\n",
        "    dimy=3\n",
        "\n",
        "    if(len(therest)==1):\n",
        "        dimx=therest[0]\n",
        "        dimy=dimx\n",
        "\n",
        "    if(len(therest)==2):\n",
        "        dimx=therest[0]\n",
        "        dimy=therest[1]\n",
        "\n",
        "    nlig=np.size(tabvignette,0)\n",
        "    ncol=np.size(tabvignette,1)\n",
        "\n",
        "    if nlig != np.size(tabvignette2,0)  :\n",
        "        print(u'les deux images doivent avoir la même taille (%d  et %d)'%(nlig, np.size(tabvignette2,0)))\n",
        "        return 0\n",
        "\n",
        "    if ncol != np.size(tabvignette2,1)  :\n",
        "        print(u'les deux images doivent avoir la même taille')\n",
        "        return 0\n",
        "\n",
        "    interf= np.multiply(tabvignette, np.conj(tabvignette2))\n",
        "\n",
        "    # part to be completed to compute a multi-look interfergram by averaging on a local window\n",
        "\n",
        "\n",
        "    mask = ... # to be completed\n",
        "    interfiltr = signal.convolve2d(interf,mask,mode='same')\n",
        "\n",
        "    den1 = np.sqrt(signal.convolve2d(np.square(np.abs(tabvignette)),mask,mode='same'))\n",
        "    den2 = np.sqrt(signal.convolve2d(np.square(np.abs(tabvignette2)),mask,mode='same'))\n",
        "\n",
        "    return interfiltr/(den1*den2+1e-12)"
      ],
      "execution_count": null,
      "outputs": []
    },
    {
      "cell_type": "code",
      "metadata": {
        "id": "pG7JQ4xT9hxH"
      },
      "source": [
        "imaslavefine= np.multiply(imaslaveroll,onde)\n",
        "filtered_interferogram = interferogramme(imamaitre,imaslavefine)\n",
        "mvalab.visusar(np.abs(filtered_interferogram))\n",
        "mvalab.visuinterfero(np.angle(filtered_interferogram),0)"
      ],
      "execution_count": null,
      "outputs": []
    },
    {
      "cell_type": "markdown",
      "metadata": {
        "id": "2D_jqnaYeVKO"
      },
      "source": [
        "### Question 3.7\n",
        "Can you apply the convolution directly on the interferometric phase image ?\n",
        "What would happen in that case?"
      ]
    },
    {
      "cell_type": "code",
      "metadata": {
        "id": "dYmmqRjZ9ubY"
      },
      "source": [],
      "execution_count": null,
      "outputs": []
    }
  ]
}